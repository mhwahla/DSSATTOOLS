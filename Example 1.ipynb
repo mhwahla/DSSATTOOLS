{
 "cells": [
  {
   "cell_type": "markdown",
   "id": "e057e62e",
   "metadata": {},
   "source": [
    "# DSSATTools Example notebook\n",
    "\n",
    "In this notebook you'll see the basic usage of DSSATools library to:\n",
    "1. Create the inputs\n",
    "2. Initialize the simulation environment\n",
    "3. Run simulations\n",
    "4. Modify input objects\n",
    "5. Read outputs.\n",
    "\n",
    "The idea of this library is to be a low-code interface to DSSAT"
   ]
  },
  {
   "cell_type": "code",
   "execution_count": 1,
   "id": "2b88ac7d",
   "metadata": {},
   "outputs": [],
   "source": [
    "from DSSATTools import (\n",
    "    Crop, SoilProfile, WeatherData, WeatherStation,\n",
    "    Management, DSSAT\n",
    ")\n",
    "import pandas as pd\n",
    "from datetime import datetime, timedelta\n",
    "import numpy as np"
   ]
  },
  {
   "cell_type": "markdown",
   "id": "56d23ccb",
   "metadata": {},
   "source": [
    "## Create a WeatherData instance"
   ]
  },
  {
   "cell_type": "code",
   "execution_count": 2,
   "id": "999437bd",
   "metadata": {},
   "outputs": [
    {
     "data": {
      "text/html": [
       "<div>\n",
       "<style scoped>\n",
       "    .dataframe tbody tr th:only-of-type {\n",
       "        vertical-align: middle;\n",
       "    }\n",
       "\n",
       "    .dataframe tbody tr th {\n",
       "        vertical-align: top;\n",
       "    }\n",
       "\n",
       "    .dataframe thead th {\n",
       "        text-align: right;\n",
       "    }\n",
       "</style>\n",
       "<table border=\"1\" class=\"dataframe\">\n",
       "  <thead>\n",
       "    <tr style=\"text-align: right;\">\n",
       "      <th></th>\n",
       "      <th>tn</th>\n",
       "      <th>rad</th>\n",
       "      <th>prec</th>\n",
       "      <th>rh</th>\n",
       "      <th>TMAX</th>\n",
       "    </tr>\n",
       "  </thead>\n",
       "  <tbody>\n",
       "    <tr>\n",
       "      <th>2000-01-01</th>\n",
       "      <td>11.291847</td>\n",
       "      <td>13.854907</td>\n",
       "      <td>0.0</td>\n",
       "      <td>60.096541</td>\n",
       "      <td>12.499014</td>\n",
       "    </tr>\n",
       "    <tr>\n",
       "      <th>2000-01-02</th>\n",
       "      <td>9.859719</td>\n",
       "      <td>12.189869</td>\n",
       "      <td>0.0</td>\n",
       "      <td>60.052103</td>\n",
       "      <td>14.794894</td>\n",
       "    </tr>\n",
       "    <tr>\n",
       "      <th>2000-01-03</th>\n",
       "      <td>8.674694</td>\n",
       "      <td>15.348776</td>\n",
       "      <td>0.0</td>\n",
       "      <td>2.133355</td>\n",
       "      <td>11.058132</td>\n",
       "    </tr>\n",
       "    <tr>\n",
       "      <th>2000-01-04</th>\n",
       "      <td>9.127612</td>\n",
       "      <td>19.813071</td>\n",
       "      <td>0.0</td>\n",
       "      <td>67.612515</td>\n",
       "      <td>13.243467</td>\n",
       "    </tr>\n",
       "    <tr>\n",
       "      <th>2000-01-05</th>\n",
       "      <td>7.350547</td>\n",
       "      <td>11.623290</td>\n",
       "      <td>0.0</td>\n",
       "      <td>59.606291</td>\n",
       "      <td>10.236600</td>\n",
       "    </tr>\n",
       "  </tbody>\n",
       "</table>\n",
       "</div>"
      ],
      "text/plain": [
       "                   tn        rad  prec         rh       TMAX\n",
       "2000-01-01  11.291847  13.854907   0.0  60.096541  12.499014\n",
       "2000-01-02   9.859719  12.189869   0.0  60.052103  14.794894\n",
       "2000-01-03   8.674694  15.348776   0.0   2.133355  11.058132\n",
       "2000-01-04   9.127612  19.813071   0.0  67.612515  13.243467\n",
       "2000-01-05   7.350547  11.623290   0.0  59.606291  10.236600"
      ]
     },
     "execution_count": 2,
     "metadata": {},
     "output_type": "execute_result"
    }
   ],
   "source": [
    "# Random weather data\n",
    "DATES = pd.date_range('2000-01-01', '2010-12-31')\n",
    "N = len(DATES)\n",
    "df = pd.DataFrame(\n",
    "    {\n",
    "    'tn': np.random.gamma(10, 1, N),\n",
    "    'rad': np.random.gamma(10, 1.5, N),\n",
    "    'prec': [0.0]* N,\n",
    "    'rh': 100 * np.random.beta(1.5, 1.15, N),\n",
    "    },\n",
    "    index=DATES,\n",
    ")\n",
    "df['TMAX'] = df.tn + np.random.gamma(5., .5, N)\n",
    "df.head()"
   ]
  },
  {
   "cell_type": "code",
   "execution_count": 3,
   "id": "ff3eb00a",
   "metadata": {},
   "outputs": [],
   "source": [
    "# Create a WeatherData instance\n",
    "WTH_DATA = WeatherData(\n",
    "    df,\n",
    "    variables={\n",
    "        'tn': 'TMIN', 'TMAX': 'TMAX',\n",
    "        'prec': 'RAIN', 'rad': 'SRAD',\n",
    "        'rh': 'RHUM'\n",
    "    }\n",
    ")\n",
    "# Create a WheaterStation instance\n",
    "wth = WeatherStation(\n",
    "    WTH_DATA, \n",
    "    {'ELEV': 33, 'LAT': 0, 'LON': 0, 'INSI': 'dpoes'}\n",
    ")"
   ]
  },
  {
   "cell_type": "markdown",
   "id": "f72d3da7",
   "metadata": {},
   "source": [
    "## Create a SoilProfile object from a default profile"
   ]
  },
  {
   "cell_type": "code",
   "execution_count": 4,
   "id": "6c6c8721",
   "metadata": {},
   "outputs": [],
   "source": [
    "# Soil instance from default soil profile\n",
    "soil = SoilProfile(default_class='SIL')"
   ]
  },
  {
   "cell_type": "markdown",
   "id": "02f30878",
   "metadata": {},
   "source": [
    "## Create a Crop object from default crop file"
   ]
  },
  {
   "cell_type": "code",
   "execution_count": 5,
   "id": "afac3126",
   "metadata": {},
   "outputs": [
    {
     "name": "stdout",
     "output_type": "stream",
     "text": [
      "\n"
     ]
    },
    {
     "data": {
      "text/plain": [
       "{'VRNAME..........': 'CORNL281',\n",
       " 'EXPNO': '.',\n",
       " 'ECO#': 'IB0001',\n",
       " 'P1': 110.0,\n",
       " 'P2': 0.3,\n",
       " 'P5': 685.0,\n",
       " 'G2': 907.9,\n",
       " 'G3': 6.6,\n",
       " 'PHINT': 38.9}"
      ]
     },
     "execution_count": 5,
     "metadata": {},
     "output_type": "execute_result"
    }
   ],
   "source": [
    "# Crop\n",
    "crop = Crop('maize')\n",
    "# Check how the cultivar looks like\n",
    "crop.cultivar['IB0001']"
   ]
  },
  {
   "cell_type": "markdown",
   "id": "3ce6d4e1",
   "metadata": {},
   "source": [
    "## Create a management instance"
   ]
  },
  {
   "cell_type": "code",
   "execution_count": 7,
   "id": "6df91167",
   "metadata": {
    "scrolled": true
   },
   "outputs": [
    {
     "data": {
      "text/plain": [
       "'R'"
      ]
     },
     "execution_count": 7,
     "metadata": {},
     "output_type": "execute_result"
    }
   ],
   "source": [
    "# Management instance\n",
    "man = Management(\n",
    "    cultivar='IB0001',\n",
    "    planting_date=DATES[10],\n",
    ")\n",
    "# Modify harvest to Automatic\n",
    "man.simulation_controls['HARVS'] = 'A'\n",
    "# Check the simulation control value for Irrigation\n",
    "man.simulation_controls['IRRIG']"
   ]
  },
  {
   "cell_type": "markdown",
   "id": "d11cb11b",
   "metadata": {},
   "source": [
    "## Setup the simulation environment and run the model"
   ]
  },
  {
   "cell_type": "code",
   "execution_count": 8,
   "id": "ae21abf0",
   "metadata": {
    "scrolled": false
   },
   "outputs": [
    {
     "name": "stdout",
     "output_type": "stream",
     "text": [
      "C:\\Users\\FS\\AppData\\Local\\Temp\\dssatshknonia created.\n",
      "Static files copied to C:\\Users\\FS\\AppData\\Local\\Temp\\dssatshknonia.\n",
      "  Crop failure growth program terminated \n",
      "     Conditions not met during defined window for harvesting                       \n",
      "     between DAY 2000 119 and DAY 2002  10                                         \n",
      "RUN    TRT FLO MAT TOPWT HARWT  RAIN  TIRR   CET  PESW  TNUP  TNLF   TSON TSOC\n",
      "           dap dap kg/ha kg/ha    mm    mm    mm    mm kg/ha kg/ha  kg/ha t/ha\n",
      "  1 MZ   1 -99  97   146     0     0     0    43    26     0   -99      0  140\n"
     ]
    }
   ],
   "source": [
    "dssat = DSSAT()\n",
    "dssat.setup()\n",
    "dssat.run(\n",
    "    soil=soil, weather=wth, crop=crop, management=man,\n",
    ")"
   ]
  },
  {
   "cell_type": "markdown",
   "id": "da316aa9",
   "metadata": {},
   "source": [
    "## Save the outputs"
   ]
  },
  {
   "cell_type": "code",
   "execution_count": 9,
   "id": "f4e92d44",
   "metadata": {},
   "outputs": [
    {
     "data": {
      "text/plain": [
       "['PlantGro']"
      ]
     },
     "execution_count": 9,
     "metadata": {},
     "output_type": "execute_result"
    }
   ],
   "source": [
    "# Print available outputs\n",
    "dssat.OUTPUT_LIST"
   ]
  },
  {
   "cell_type": "code",
   "execution_count": 10,
   "id": "db957740",
   "metadata": {},
   "outputs": [
    {
     "data": {
      "text/html": [
       "<div>\n",
       "<style scoped>\n",
       "    .dataframe tbody tr th:only-of-type {\n",
       "        vertical-align: middle;\n",
       "    }\n",
       "\n",
       "    .dataframe tbody tr th {\n",
       "        vertical-align: top;\n",
       "    }\n",
       "\n",
       "    .dataframe thead th {\n",
       "        text-align: right;\n",
       "    }\n",
       "</style>\n",
       "<table border=\"1\" class=\"dataframe\">\n",
       "  <thead>\n",
       "    <tr style=\"text-align: right;\">\n",
       "      <th></th>\n",
       "      <th>@YEAR</th>\n",
       "      <th>DOY</th>\n",
       "      <th>DAS</th>\n",
       "      <th>DAP</th>\n",
       "      <th>L#SD</th>\n",
       "      <th>GSTD</th>\n",
       "      <th>LAID</th>\n",
       "      <th>LWAD</th>\n",
       "      <th>SWAD</th>\n",
       "      <th>GWAD</th>\n",
       "      <th>...</th>\n",
       "      <th>RL5D</th>\n",
       "      <th>RL6D</th>\n",
       "      <th>RL7D</th>\n",
       "      <th>RL8D</th>\n",
       "      <th>CDAD</th>\n",
       "      <th>LDAD</th>\n",
       "      <th>SDAD</th>\n",
       "      <th>SNW0C</th>\n",
       "      <th>SNW1C</th>\n",
       "      <th>DTTD</th>\n",
       "    </tr>\n",
       "  </thead>\n",
       "  <tbody>\n",
       "    <tr>\n",
       "      <th>2000-01-11</th>\n",
       "      <td>2000</td>\n",
       "      <td>011</td>\n",
       "      <td>2</td>\n",
       "      <td>0</td>\n",
       "      <td>0.0</td>\n",
       "      <td>0</td>\n",
       "      <td>0.0</td>\n",
       "      <td>0</td>\n",
       "      <td>0</td>\n",
       "      <td>0</td>\n",
       "      <td>...</td>\n",
       "      <td>0.0</td>\n",
       "      <td>0.0</td>\n",
       "      <td>0.0</td>\n",
       "      <td>0.0</td>\n",
       "      <td>0</td>\n",
       "      <td>0</td>\n",
       "      <td>0</td>\n",
       "      <td>0</td>\n",
       "      <td>0</td>\n",
       "      <td>4.49</td>\n",
       "    </tr>\n",
       "    <tr>\n",
       "      <th>2000-01-12</th>\n",
       "      <td>2000</td>\n",
       "      <td>012</td>\n",
       "      <td>3</td>\n",
       "      <td>1</td>\n",
       "      <td>0.0</td>\n",
       "      <td>0</td>\n",
       "      <td>0.0</td>\n",
       "      <td>0</td>\n",
       "      <td>0</td>\n",
       "      <td>0</td>\n",
       "      <td>...</td>\n",
       "      <td>0.0</td>\n",
       "      <td>0.0</td>\n",
       "      <td>0.0</td>\n",
       "      <td>0.0</td>\n",
       "      <td>0</td>\n",
       "      <td>0</td>\n",
       "      <td>0</td>\n",
       "      <td>0</td>\n",
       "      <td>0</td>\n",
       "      <td>1.67</td>\n",
       "    </tr>\n",
       "    <tr>\n",
       "      <th>2000-01-13</th>\n",
       "      <td>2000</td>\n",
       "      <td>013</td>\n",
       "      <td>4</td>\n",
       "      <td>2</td>\n",
       "      <td>0.0</td>\n",
       "      <td>0</td>\n",
       "      <td>0.0</td>\n",
       "      <td>0</td>\n",
       "      <td>0</td>\n",
       "      <td>0</td>\n",
       "      <td>...</td>\n",
       "      <td>0.0</td>\n",
       "      <td>0.0</td>\n",
       "      <td>0.0</td>\n",
       "      <td>0.0</td>\n",
       "      <td>0</td>\n",
       "      <td>0</td>\n",
       "      <td>0</td>\n",
       "      <td>0</td>\n",
       "      <td>0</td>\n",
       "      <td>8.28</td>\n",
       "    </tr>\n",
       "    <tr>\n",
       "      <th>2000-01-14</th>\n",
       "      <td>2000</td>\n",
       "      <td>014</td>\n",
       "      <td>5</td>\n",
       "      <td>3</td>\n",
       "      <td>0.0</td>\n",
       "      <td>0</td>\n",
       "      <td>0.0</td>\n",
       "      <td>0</td>\n",
       "      <td>0</td>\n",
       "      <td>0</td>\n",
       "      <td>...</td>\n",
       "      <td>0.0</td>\n",
       "      <td>0.0</td>\n",
       "      <td>0.0</td>\n",
       "      <td>0.0</td>\n",
       "      <td>0</td>\n",
       "      <td>0</td>\n",
       "      <td>0</td>\n",
       "      <td>0</td>\n",
       "      <td>0</td>\n",
       "      <td>3.47</td>\n",
       "    </tr>\n",
       "    <tr>\n",
       "      <th>2000-01-15</th>\n",
       "      <td>2000</td>\n",
       "      <td>015</td>\n",
       "      <td>6</td>\n",
       "      <td>4</td>\n",
       "      <td>0.0</td>\n",
       "      <td>0</td>\n",
       "      <td>0.0</td>\n",
       "      <td>0</td>\n",
       "      <td>0</td>\n",
       "      <td>0</td>\n",
       "      <td>...</td>\n",
       "      <td>0.0</td>\n",
       "      <td>0.0</td>\n",
       "      <td>0.0</td>\n",
       "      <td>0.0</td>\n",
       "      <td>0</td>\n",
       "      <td>0</td>\n",
       "      <td>0</td>\n",
       "      <td>0</td>\n",
       "      <td>0</td>\n",
       "      <td>8.12</td>\n",
       "    </tr>\n",
       "  </tbody>\n",
       "</table>\n",
       "<p>5 rows × 48 columns</p>\n",
       "</div>"
      ],
      "text/plain": [
       "           @YEAR  DOY  DAS  DAP  L#SD  GSTD  LAID  LWAD  SWAD  GWAD  ...  \\\n",
       "2000-01-11  2000  011    2    0   0.0     0   0.0     0     0     0  ...   \n",
       "2000-01-12  2000  012    3    1   0.0     0   0.0     0     0     0  ...   \n",
       "2000-01-13  2000  013    4    2   0.0     0   0.0     0     0     0  ...   \n",
       "2000-01-14  2000  014    5    3   0.0     0   0.0     0     0     0  ...   \n",
       "2000-01-15  2000  015    6    4   0.0     0   0.0     0     0     0  ...   \n",
       "\n",
       "            RL5D  RL6D  RL7D  RL8D  CDAD  LDAD  SDAD  SNW0C  SNW1C  DTTD  \n",
       "2000-01-11   0.0   0.0   0.0   0.0     0     0     0      0      0  4.49  \n",
       "2000-01-12   0.0   0.0   0.0   0.0     0     0     0      0      0  1.67  \n",
       "2000-01-13   0.0   0.0   0.0   0.0     0     0     0      0      0  8.28  \n",
       "2000-01-14   0.0   0.0   0.0   0.0     0     0     0      0      0  3.47  \n",
       "2000-01-15   0.0   0.0   0.0   0.0     0     0     0      0      0  8.12  \n",
       "\n",
       "[5 rows x 48 columns]"
      ]
     },
     "execution_count": 10,
     "metadata": {},
     "output_type": "execute_result"
    }
   ],
   "source": [
    "# Save the output\n",
    "output_1 = dssat.output['PlantGro']\n",
    "output_1.head()"
   ]
  },
  {
   "cell_type": "markdown",
   "id": "5257e6fb",
   "metadata": {},
   "source": [
    "## Modify Irrigation management and run again"
   ]
  },
  {
   "cell_type": "code",
   "execution_count": 11,
   "id": "0a8a7413",
   "metadata": {},
   "outputs": [
    {
     "name": "stdout",
     "output_type": "stream",
     "text": [
      "RUN    TRT FLO MAT TOPWT HARWT  RAIN  TIRR   CET  PESW  TNUP  TNLF   TSON TSOC\n",
      "           dap dap kg/ha kg/ha    mm    mm    mm    mm kg/ha kg/ha  kg/ha t/ha\n",
      "  1 MZ   1 155 352 19774  9599     0   775   822    22     0   -99      0  141\n"
     ]
    }
   ],
   "source": [
    "# Modify management and run again\n",
    "man.simulation_controls['IRRIG'] = 'A' # Automatic Irrigation\n",
    "dssat.run(\n",
    "    soil=soil, weather=wth, crop=crop, management=man,\n",
    ")\n",
    "output_2 = dssat.output['PlantGro']"
   ]
  },
  {
   "cell_type": "markdown",
   "id": "07763180",
   "metadata": {},
   "source": [
    "## Modify a cultivar parameter and run again"
   ]
  },
  {
   "cell_type": "code",
   "execution_count": 12,
   "id": "7047ed8c",
   "metadata": {},
   "outputs": [
    {
     "name": "stdout",
     "output_type": "stream",
     "text": [
      "     Conditions not met during defined window for harvesting                       \n",
      "     between DAY 2000 338 and DAY 2002  10                                         \n",
      "RUN    TRT FLO MAT TOPWT HARWT  RAIN  TIRR   CET  PESW  TNUP  TNLF   TSON TSOC\n",
      "           dap dap kg/ha kg/ha    mm    mm    mm    mm kg/ha kg/ha  kg/ha t/ha\n",
      "  1 MZ   1 124 316 15562  8837     0   692   778     0     0   -99      0  140\n"
     ]
    }
   ],
   "source": [
    "# Now modify a cultivar parameter and run that again\n",
    "crop.cultivar['IB0001']['P1'] = 50\n",
    "dssat.run(\n",
    "    soil=soil, weather=wth, crop=crop, management=man,\n",
    ")\n",
    "output_3 = dssat.output['PlantGro']"
   ]
  },
  {
   "cell_type": "markdown",
   "id": "aa079188",
   "metadata": {},
   "source": [
    "## Check the results for the yield"
   ]
  },
  {
   "cell_type": "code",
   "execution_count": 13,
   "id": "ecf35b21",
   "metadata": {},
   "outputs": [
    {
     "data": {
      "text/plain": [
       "<matplotlib.legend.Legend at 0x254cd0f1580>"
      ]
     },
     "execution_count": 13,
     "metadata": {},
     "output_type": "execute_result"
    },
    {
     "data": {
      "image/png": "[encoded data removed]",
      "text/plain": [
       "<Figure size 640x480 with 1 Axes>"
      ]
     },
     "metadata": {},
     "output_type": "display_data"
    }
   ],
   "source": [
    "ax = output_1.CWAD.plot(label='Rainfed 0mm')\n",
    "output_2.CWAD.plot(label='Irrigation', ax=ax)\n",
    "output_3.CWAD.plot(label='Irrigation + Twitched parameter', ax=ax)\n",
    "ax.legend()"
   ]
  },
  {
   "cell_type": "code",
   "execution_count": null,
   "id": "2fbe2b93",
   "metadata": {},
   "outputs": [],
   "source": []
  }
 ],
 "metadata": {
  "kernelspec": {
   "display_name": "Python 3 (ipykernel)",
   "language": "python",
   "name": "python3"
  },
  "language_info": {
   "codemirror_mode": {
    "name": "ipython",
    "version": 3
   },
   "file_extension": ".py",
   "mimetype": "text/x-python",
   "name": "python",
   "nbconvert_exporter": "python",
   "pygments_lexer": "ipython3",
   "version": "3.9.6"
  }
 },
 "nbformat": 4,
 "nbformat_minor": 5
}
