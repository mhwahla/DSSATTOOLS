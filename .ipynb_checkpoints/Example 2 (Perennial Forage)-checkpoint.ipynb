{
 "cells": [
  {
   "cell_type": "markdown",
   "id": "e057e62e",
   "metadata": {},
   "source": [
    "# DSSATTools Perennial forage example notebook\n",
    "\n",
    "In this notebook you'll see the basic usage of DSSATools library to:\n",
    "1. Create the inputs\n",
    "2. Initialize the simulation environment\n",
    "3. Run simulations\n",
    "4. Modify input objects\n",
    "5. Create mowing schedule\n",
    "5. Read outputs.\n",
    "\n",
    "The idea of this library is to be a low-code interface to DSSAT"
   ]
  },
  {
   "cell_type": "code",
   "execution_count": 1,
   "id": "2b88ac7d",
   "metadata": {},
   "outputs": [],
   "source": [
    "from DSSATTools import (\n",
    "    Crop, SoilProfile, WeatherData, WeatherStation,\n",
    "    Management, DSSAT\n",
    ")\n",
    "from DSSATTools.base.sections import TabularSubsection\n",
    "import pandas as pd\n",
    "from datetime import datetime, timedelta\n",
    "import numpy as np"
   ]
  },
  {
   "cell_type": "markdown",
   "id": "56d23ccb",
   "metadata": {},
   "source": [
    "## Create a WeatherData instance"
   ]
  },
  {
   "cell_type": "code",
   "execution_count": 2,
   "id": "999437bd",
   "metadata": {},
   "outputs": [
    {
     "data": {
      "text/html": [
       "<div>\n",
       "<style scoped>\n",
       "    .dataframe tbody tr th:only-of-type {\n",
       "        vertical-align: middle;\n",
       "    }\n",
       "\n",
       "    .dataframe tbody tr th {\n",
       "        vertical-align: top;\n",
       "    }\n",
       "\n",
       "    .dataframe thead th {\n",
       "        text-align: right;\n",
       "    }\n",
       "</style>\n",
       "<table border=\"1\" class=\"dataframe\">\n",
       "  <thead>\n",
       "    <tr style=\"text-align: right;\">\n",
       "      <th></th>\n",
       "      <th>tn</th>\n",
       "      <th>rad</th>\n",
       "      <th>prec</th>\n",
       "      <th>rh</th>\n",
       "      <th>TMAX</th>\n",
       "    </tr>\n",
       "  </thead>\n",
       "  <tbody>\n",
       "    <tr>\n",
       "      <th>2000-01-01</th>\n",
       "      <td>14.832874</td>\n",
       "      <td>22.740385</td>\n",
       "      <td>0.0</td>\n",
       "      <td>38.877281</td>\n",
       "      <td>33.680198</td>\n",
       "    </tr>\n",
       "    <tr>\n",
       "      <th>2000-01-02</th>\n",
       "      <td>19.443762</td>\n",
       "      <td>23.583733</td>\n",
       "      <td>0.0</td>\n",
       "      <td>40.450291</td>\n",
       "      <td>21.009834</td>\n",
       "    </tr>\n",
       "    <tr>\n",
       "      <th>2000-01-03</th>\n",
       "      <td>12.084787</td>\n",
       "      <td>23.427325</td>\n",
       "      <td>0.0</td>\n",
       "      <td>65.684143</td>\n",
       "      <td>30.191437</td>\n",
       "    </tr>\n",
       "    <tr>\n",
       "      <th>2000-01-04</th>\n",
       "      <td>20.760652</td>\n",
       "      <td>19.674282</td>\n",
       "      <td>0.0</td>\n",
       "      <td>79.590910</td>\n",
       "      <td>22.221052</td>\n",
       "    </tr>\n",
       "    <tr>\n",
       "      <th>2000-01-05</th>\n",
       "      <td>23.095848</td>\n",
       "      <td>13.267708</td>\n",
       "      <td>0.0</td>\n",
       "      <td>9.887958</td>\n",
       "      <td>27.482840</td>\n",
       "    </tr>\n",
       "  </tbody>\n",
       "</table>\n",
       "</div>"
      ],
      "text/plain": [
       "                   tn        rad  prec         rh       TMAX\n",
       "2000-01-01  14.832874  22.740385   0.0  38.877281  33.680198\n",
       "2000-01-02  19.443762  23.583733   0.0  40.450291  21.009834\n",
       "2000-01-03  12.084787  23.427325   0.0  65.684143  30.191437\n",
       "2000-01-04  20.760652  19.674282   0.0  79.590910  22.221052\n",
       "2000-01-05  23.095848  13.267708   0.0   9.887958  27.482840"
      ]
     },
     "execution_count": 2,
     "metadata": {},
     "output_type": "execute_result"
    }
   ],
   "source": [
    "# Random weather data\n",
    "DATES = pd.date_range('2000-01-01', '2002-12-31')\n",
    "N = len(DATES)\n",
    "df = pd.DataFrame(\n",
    "    {\n",
    "    'tn': np.random.gamma(20, 1, N),\n",
    "    'rad': np.random.gamma(15, 1.5, N),\n",
    "    'prec': [0.0]* N,\n",
    "    'rh': 100 * np.random.beta(1.5, 1.15, N),\n",
    "    },\n",
    "    index=DATES,\n",
    ")\n",
    "df['TMAX'] = df.tn + abs(np.random.normal(0, 8, N))\n",
    "df.head()"
   ]
  },
  {
   "cell_type": "code",
   "execution_count": 3,
   "id": "ff3eb00a",
   "metadata": {},
   "outputs": [],
   "source": [
    "# Create a WeatherData instance\n",
    "WTH_DATA = WeatherData(\n",
    "    df,\n",
    "    variables={\n",
    "        'tn': 'TMIN', 'TMAX': 'TMAX',\n",
    "        'prec': 'RAIN', 'rad': 'SRAD',\n",
    "        'rh': 'RHUM'\n",
    "    }\n",
    ")\n",
    "# Create a WheaterStation instance\n",
    "wth = WeatherStation(\n",
    "    WTH_DATA, \n",
    "    {'ELEV': 33, 'LAT': 0, 'LON': 0, 'INSI': 'dpoes'}\n",
    ")"
   ]
  },
  {
   "cell_type": "markdown",
   "id": "f72d3da7",
   "metadata": {},
   "source": [
    "## Create a SoilProfile object from a default profile"
   ]
  },
  {
   "cell_type": "code",
   "execution_count": 4,
   "id": "6c6c8721",
   "metadata": {},
   "outputs": [],
   "source": [
    "# Soil instance from default soil profile\n",
    "soil = SoilProfile(default_class='SIL')"
   ]
  },
  {
   "cell_type": "markdown",
   "id": "02f30878",
   "metadata": {},
   "source": [
    "## Create a Crop object from default crop file"
   ]
  },
  {
   "cell_type": "code",
   "execution_count": 5,
   "id": "afac3126",
   "metadata": {},
   "outputs": [
    {
     "name": "stdout",
     "output_type": "stream",
     "text": [
      "\n"
     ]
    },
    {
     "data": {
      "text/plain": [
       "{'VRNAME..........': 'Aragon  FD7',\n",
       " 'EXPNO': '',\n",
       " 'ECO#': 'G00001',\n",
       " 'CSDL': 12.5,\n",
       " 'PPSEN': 0.2,\n",
       " 'EM-FL': 99.0,\n",
       " 'FL-SH': 10.0,\n",
       " 'FL-SD': 18.0,\n",
       " 'SD-PM': 33.0,\n",
       " 'FL-LF': 25.0,\n",
       " 'LFMAX': 1.4,\n",
       " 'SLAVR': 240.0,\n",
       " 'SIZLF': 2.0,\n",
       " 'XFRT': 0.01,\n",
       " 'WTPSD': 0.02,\n",
       " 'SFDUR': 15.0,\n",
       " 'SDPDV': 2.05,\n",
       " 'PODUR': 20.0,\n",
       " 'THRSH': 78.0,\n",
       " 'SDPRO': 0.115,\n",
       " 'SDLIP': 0.035}"
      ]
     },
     "execution_count": 5,
     "metadata": {},
     "output_type": "execute_result"
    }
   ],
   "source": [
    "# Crop\n",
    "crop = Crop('alfalfa')\n",
    "# Check how the cultivar looks like\n",
    "crop.cultivar['AL0001']"
   ]
  },
  {
   "cell_type": "markdown",
   "id": "3ce6d4e1",
   "metadata": {},
   "source": [
    "## Create a management instance"
   ]
  },
  {
   "cell_type": "code",
   "execution_count": 6,
   "id": "6df91167",
   "metadata": {
    "scrolled": true
   },
   "outputs": [
    {
     "data": {
      "text/plain": [
       "'A'"
      ]
     },
     "execution_count": 6,
     "metadata": {},
     "output_type": "execute_result"
    }
   ],
   "source": [
    "# Management instance\n",
    "man = Management(\n",
    "    cultivar='AL0001',\n",
    "    planting_date=DATES[10],\n",
    "    irrigation='A' # Automatic irrigation\n",
    ")\n",
    "# Modify mowing schedule\n",
    "mow_schedule = pd.DataFrame({\n",
    "    'DATE': [DATES[300].strftime('%y%j'), DATES[340].strftime('%y%j')], \n",
    "    'MOW': [1000, 1000], 'RSPLF': [20, 20], 'MVS': [2, 2], 'RSHT': [5, 5]\n",
    "})\n",
    "man.mow['table'] = TabularSubsection(mow_schedule)\n",
    "# Check the simulation control value for Irrigation\n",
    "man.simulation_controls['IRRIG']"
   ]
  },
  {
   "cell_type": "markdown",
   "id": "d11cb11b",
   "metadata": {},
   "source": [
    "## Setup the simulation environment and run the model"
   ]
  },
  {
   "cell_type": "code",
   "execution_count": 7,
   "id": "ae21abf0",
   "metadata": {
    "scrolled": false
   },
   "outputs": [
    {
     "name": "stdout",
     "output_type": "stream",
     "text": [
      "C:\\Users\\FS\\AppData\\Local\\Temp\\dssatxqeqmlwe created.\n",
      "Static files copied to C:\\Users\\FS\\AppData\\Local\\Temp\\dssatxqeqmlwe.\n",
      "RUN    TRT FLO MAT TOPWT HARWT  RAIN  TIRR   CET  PESW  TNUP  TNLF   TSON TSOC\n",
      "           dap dap kg/ha kg/ha    mm    mm    mm    mm kg/ha kg/ha  kg/ha t/ha\n",
      "  1 AL   1 -99 -99   -99  8075     0  5150  5219    13   -99   -99      0  143\n"
     ]
    }
   ],
   "source": [
    "dssat = DSSAT()\n",
    "dssat.setup()\n",
    "dssat.run(\n",
    "    soil=soil, weather=wth, crop=crop, management=man,\n",
    ")"
   ]
  },
  {
   "cell_type": "code",
   "execution_count": 8,
   "id": "db957740",
   "metadata": {},
   "outputs": [
    {
     "data": {
      "text/plain": [
       "Text(0, 0.5, 'Ton/ha')"
      ]
     },
     "execution_count": 8,
     "metadata": {},
     "output_type": "execute_result"
    },
    {
     "data": {
      "image/png": "[encoded data removed]",
      "text/plain": [
       "<Figure size 640x480 with 1 Axes>"
      ]
     },
     "metadata": {},
     "output_type": "display_data"
    }
   ],
   "source": [
    "# Save the output\n",
    "output_1 = dssat.output['PlantGro']\n",
    "ax = output_1.CWAD.plot()\n",
    "ax.set_title('Above ground Biomass')\n",
    "ax.set_ylabel('Ton/ha')"
   ]
  },
  {
   "cell_type": "code",
   "execution_count": 11,
   "id": "708d2fc3",
   "metadata": {},
   "outputs": [
    {
     "data": {
      "text/plain": [
       "Text(0, 0.5, 'Ton/ha')"
      ]
     },
     "execution_count": 11,
     "metadata": {},
     "output_type": "execute_result"
    },
    {
     "data": {
      "image/png": "[encoded data removed]",
      "text/plain": [
       "<Figure size 640x480 with 1 Axes>"
      ]
     },
     "metadata": {},
     "output_type": "display_data"
    }
   ],
   "source": [
    "ax = output_1.loc[output_1.HERB > 0, 'HERB'].plot(kind='bar', color='r')\n",
    "ax.set_title('Harvested forage')\n",
    "ax.set_ylabel('Ton/ha')"
   ]
  },
  {
   "cell_type": "code",
   "execution_count": null,
   "id": "fde73575",
   "metadata": {},
   "outputs": [],
   "source": []
  }
 ],
 "metadata": {
  "kernelspec": {
   "display_name": "Python 3 (ipykernel)",
   "language": "python",
   "name": "python3"
  },
  "language_info": {
   "codemirror_mode": {
    "name": "ipython",
    "version": 3
   },
   "file_extension": ".py",
   "mimetype": "text/x-python",
   "name": "python",
   "nbconvert_exporter": "python",
   "pygments_lexer": "ipython3",
   "version": "3.9.6"
  }
 },
 "nbformat": 4,
 "nbformat_minor": 5
}
